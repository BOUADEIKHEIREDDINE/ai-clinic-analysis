{
 "cells": [
  {
   "cell_type": "markdown",
   "id": "8502bb04-7dda-49ac-aa25-2f0ed92def91",
   "metadata": {},
   "source": [
    "# Import libraries et chargement des datasets"
   ]
  },
  {
   "cell_type": "code",
   "execution_count": 2,
   "id": "414acb47-9a70-4977-9239-07d13ee4d5ae",
   "metadata": {},
   "outputs": [],
   "source": [
    "import numpy as np\n",
    "import matplotlib.pyplot as plt\n",
    "import pandas as pd"
   ]
  },
  {
   "cell_type": "code",
   "execution_count": 4,
   "id": "7478bab4-c4e3-4566-80e8-0c60122614e6",
   "metadata": {},
   "outputs": [],
   "source": [
    "data1 = pd.read_csv(r\"C:\\Users\\ethan\\OneDrive\\Documents\\Aivancity\\Cours\\Clinique de l'IA\\Projet_1\\projet4_datasets\\eco2mix-regional-cons-def.csv\",sep=\";\")\n",
    "data2 = pd.read_excel(r\"C:\\Users\\ethan\\OneDrive\\Documents\\Aivancity\\Cours\\Clinique de l'IA\\Projet_1\\projet4_datasets\\pop entre 2016 et 2022.xlsx\")\n",
    "data3 = pd.read_csv(r\"C:\\Users\\ethan\\OneDrive\\Documents\\Aivancity\\Cours\\Clinique de l'IA\\Projet_1\\projet4_datasets\\temperature-quotidienne-regionale (2).csv\",sep=\";\")"
   ]
  },
  {
   "cell_type": "code",
   "execution_count": 6,
   "id": "4eabdaf3-5d16-4954-b841-4d21fc92ee7f",
   "metadata": {},
   "outputs": [
    {
     "data": {
      "text/plain": [
       "(91, 3)"
      ]
     },
     "execution_count": 6,
     "metadata": {},
     "output_type": "execute_result"
    }
   ],
   "source": [
    "data2.shape"
   ]
  },
  {
   "cell_type": "code",
   "execution_count": 8,
   "id": "dc71edcf-9bb9-4b58-9b42-42966cbf642d",
   "metadata": {},
   "outputs": [
    {
     "data": {
      "text/plain": [
       "Index(['Régions', 'annee', 'Total'], dtype='object')"
      ]
     },
     "execution_count": 8,
     "metadata": {},
     "output_type": "execute_result"
    }
   ],
   "source": [
    "data2.columns"
   ]
  },
  {
   "cell_type": "code",
   "execution_count": 12,
   "id": "086966d6-185f-46f0-b9a0-018272559acb",
   "metadata": {},
   "outputs": [
    {
     "data": {
      "text/plain": [
       "Régions    0\n",
       "annee      0\n",
       "Total      0\n",
       "dtype: int64"
      ]
     },
     "execution_count": 12,
     "metadata": {},
     "output_type": "execute_result"
    }
   ],
   "source": [
    "data2.isna().sum()"
   ]
  },
  {
   "cell_type": "markdown",
   "id": "5fe4d92c-bee2-4383-a272-4f791273005e",
   "metadata": {},
   "source": [
    "## Code de cour\n",
    "(Ne pas prêter attention)"
   ]
  },
  {
   "cell_type": "code",
   "execution_count": 34,
   "id": "689564de-6513-4eec-ba90-19f70c4f0dd4",
   "metadata": {},
   "outputs": [
    {
     "data": {
      "text/plain": [
       "\"data.shape, data.columns, data.head(), data.describe, data.isna().sum()\\ndata.fillna(data['age'].mean()), data.dropna(axis=0)\\ndata2.groupby(['annee', 'Régions']).mean(), data2=data2.set_index('Régions')\\n\""
      ]
     },
     "execution_count": 34,
     "metadata": {},
     "output_type": "execute_result"
    }
   ],
   "source": [
    "\"\"\"data.shape, data.columns, data.head(), data.describe, data.isna().sum()\n",
    "data.fillna(data['age'].mean()), data.dropna(axis=0)\n",
    "data2.groupby(['annee', 'Régions']).mean(), data2=data2.set_index('Régions')\n",
    "\"\"\""
   ]
  },
  {
   "cell_type": "markdown",
   "id": "63b197b0-388d-489b-a456-8580baebd821",
   "metadata": {},
   "source": [
    "# Data2"
   ]
  },
  {
   "cell_type": "code",
   "execution_count": 37,
   "id": "158d73da-ba27-49bb-b192-bccf7590fd3d",
   "metadata": {},
   "outputs": [
    {
     "data": {
      "text/plain": [
       "(91, 3)"
      ]
     },
     "execution_count": 37,
     "metadata": {},
     "output_type": "execute_result"
    }
   ],
   "source": [
    "data2.shape"
   ]
  },
  {
   "cell_type": "code",
   "execution_count": 39,
   "id": "402f3c7a-b7a0-4317-9fff-0e93ee411e9d",
   "metadata": {},
   "outputs": [
    {
     "data": {
      "text/plain": [
       "Index(['Régions', 'annee', 'Total'], dtype='object')"
      ]
     },
     "execution_count": 39,
     "metadata": {},
     "output_type": "execute_result"
    }
   ],
   "source": [
    "data2.columns"
   ]
  },
  {
   "cell_type": "code",
   "execution_count": 41,
   "id": "cbb69e08-62de-428f-9677-9a19d5026511",
   "metadata": {},
   "outputs": [],
   "source": [
    "data2.rename(columns={\"Régions\": \"region\"}, inplace=True)"
   ]
  },
  {
   "cell_type": "code",
   "execution_count": 43,
   "id": "1abd910c-6818-4251-8ea9-8244b7eea8d5",
   "metadata": {},
   "outputs": [],
   "source": [
    "data2.replace({\"region\": {\"Centre-Val-de-Loire\": \"Centre-Val de Loire\"}}, inplace=True)"
   ]
  },
  {
   "cell_type": "code",
   "execution_count": 45,
   "id": "87f27c0d-7444-4212-8400-1d3fb5abdec4",
   "metadata": {},
   "outputs": [
    {
     "data": {
      "text/html": [
       "<div>\n",
       "<style scoped>\n",
       "    .dataframe tbody tr th:only-of-type {\n",
       "        vertical-align: middle;\n",
       "    }\n",
       "\n",
       "    .dataframe tbody tr th {\n",
       "        vertical-align: top;\n",
       "    }\n",
       "\n",
       "    .dataframe thead th {\n",
       "        text-align: right;\n",
       "    }\n",
       "</style>\n",
       "<table border=\"1\" class=\"dataframe\">\n",
       "  <thead>\n",
       "    <tr style=\"text-align: right;\">\n",
       "      <th></th>\n",
       "      <th>region</th>\n",
       "      <th>annee</th>\n",
       "      <th>Total</th>\n",
       "    </tr>\n",
       "  </thead>\n",
       "  <tbody>\n",
       "    <tr>\n",
       "      <th>0</th>\n",
       "      <td>Auvergne-Rhône-Alpes</td>\n",
       "      <td>2022</td>\n",
       "      <td>8156391</td>\n",
       "    </tr>\n",
       "    <tr>\n",
       "      <th>1</th>\n",
       "      <td>Bourgogne-Franche-Comté</td>\n",
       "      <td>2022</td>\n",
       "      <td>2791006</td>\n",
       "    </tr>\n",
       "    <tr>\n",
       "      <th>2</th>\n",
       "      <td>Bretagne</td>\n",
       "      <td>2022</td>\n",
       "      <td>3412207</td>\n",
       "    </tr>\n",
       "    <tr>\n",
       "      <th>3</th>\n",
       "      <td>Centre-Val de Loire</td>\n",
       "      <td>2022</td>\n",
       "      <td>2572636</td>\n",
       "    </tr>\n",
       "    <tr>\n",
       "      <th>4</th>\n",
       "      <td>Corse</td>\n",
       "      <td>2022</td>\n",
       "      <td>348830</td>\n",
       "    </tr>\n",
       "  </tbody>\n",
       "</table>\n",
       "</div>"
      ],
      "text/plain": [
       "                    region  annee    Total\n",
       "0     Auvergne-Rhône-Alpes   2022  8156391\n",
       "1  Bourgogne-Franche-Comté   2022  2791006\n",
       "2                 Bretagne   2022  3412207\n",
       "3      Centre-Val de Loire   2022  2572636\n",
       "4                    Corse   2022   348830"
      ]
     },
     "execution_count": 45,
     "metadata": {},
     "output_type": "execute_result"
    }
   ],
   "source": [
    "data2.head()"
   ]
  },
  {
   "cell_type": "code",
   "execution_count": 47,
   "id": "d42582f2-63d1-427d-8166-99133fef0076",
   "metadata": {},
   "outputs": [
    {
     "data": {
      "text/html": [
       "<div>\n",
       "<style scoped>\n",
       "    .dataframe tbody tr th:only-of-type {\n",
       "        vertical-align: middle;\n",
       "    }\n",
       "\n",
       "    .dataframe tbody tr th {\n",
       "        vertical-align: top;\n",
       "    }\n",
       "\n",
       "    .dataframe thead th {\n",
       "        text-align: right;\n",
       "    }\n",
       "</style>\n",
       "<table border=\"1\" class=\"dataframe\">\n",
       "  <thead>\n",
       "    <tr style=\"text-align: right;\">\n",
       "      <th></th>\n",
       "      <th>annee</th>\n",
       "      <th>Total</th>\n",
       "    </tr>\n",
       "  </thead>\n",
       "  <tbody>\n",
       "    <tr>\n",
       "      <th>count</th>\n",
       "      <td>91.00000</td>\n",
       "      <td>9.100000e+01</td>\n",
       "    </tr>\n",
       "    <tr>\n",
       "      <th>mean</th>\n",
       "      <td>2019.00000</td>\n",
       "      <td>5.017946e+06</td>\n",
       "    </tr>\n",
       "    <tr>\n",
       "      <th>std</th>\n",
       "      <td>2.01108</td>\n",
       "      <td>2.850709e+06</td>\n",
       "    </tr>\n",
       "    <tr>\n",
       "      <th>min</th>\n",
       "      <td>2016.00000</td>\n",
       "      <td>3.304550e+05</td>\n",
       "    </tr>\n",
       "    <tr>\n",
       "      <th>25%</th>\n",
       "      <td>2017.00000</td>\n",
       "      <td>3.319324e+06</td>\n",
       "    </tr>\n",
       "    <tr>\n",
       "      <th>50%</th>\n",
       "      <td>2019.00000</td>\n",
       "      <td>5.098666e+06</td>\n",
       "    </tr>\n",
       "    <tr>\n",
       "      <th>75%</th>\n",
       "      <td>2021.00000</td>\n",
       "      <td>6.008246e+06</td>\n",
       "    </tr>\n",
       "    <tr>\n",
       "      <th>max</th>\n",
       "      <td>2022.00000</td>\n",
       "      <td>1.232943e+07</td>\n",
       "    </tr>\n",
       "  </tbody>\n",
       "</table>\n",
       "</div>"
      ],
      "text/plain": [
       "            annee         Total\n",
       "count    91.00000  9.100000e+01\n",
       "mean   2019.00000  5.017946e+06\n",
       "std       2.01108  2.850709e+06\n",
       "min    2016.00000  3.304550e+05\n",
       "25%    2017.00000  3.319324e+06\n",
       "50%    2019.00000  5.098666e+06\n",
       "75%    2021.00000  6.008246e+06\n",
       "max    2022.00000  1.232943e+07"
      ]
     },
     "execution_count": 47,
     "metadata": {},
     "output_type": "execute_result"
    }
   ],
   "source": [
    "data2.describe()"
   ]
  },
  {
   "cell_type": "markdown",
   "id": "192b760d-ed12-44d3-a850-a0dc52d4e997",
   "metadata": {},
   "source": [
    "## data2_1: moyenne population par region\n",
    "## data2_2: graphique"
   ]
  },
  {
   "cell_type": "code",
   "execution_count": 50,
   "id": "3962fc1d-0c01-41e9-b7c2-a85f945df0b3",
   "metadata": {},
   "outputs": [
    {
     "data": {
      "image/png": "[encoded data removed]",
      "text/plain": [
       "<Figure size 640x480 with 1 Axes>"
      ]
     },
     "metadata": {},
     "output_type": "display_data"
    }
   ],
   "source": [
    "data2_1 = data2.groupby(\"region\").mean().Total.sort_values()\n",
    "data2_2 = data2_1.plot(kind=\"bar\")"
   ]
  },
  {
   "cell_type": "markdown",
   "id": "29cb3ff2-1822-421b-8448-1702da83e727",
   "metadata": {},
   "source": [
    "# Data3"
   ]
  },
  {
   "cell_type": "code",
   "execution_count": 53,
   "id": "a4e3b93f-51ed-496d-9f6d-2f1183918b73",
   "metadata": {},
   "outputs": [
    {
     "data": {
      "text/plain": [
       "(33943, 7)"
      ]
     },
     "execution_count": 53,
     "metadata": {},
     "output_type": "execute_result"
    }
   ],
   "source": [
    "data3.shape"
   ]
  },
  {
   "cell_type": "code",
   "execution_count": 55,
   "id": "d4803f0c-99f9-4d4b-9d51-57ca2cecae13",
   "metadata": {},
   "outputs": [
    {
     "data": {
      "text/plain": [
       "Index(['id', 'date', 'code_insee_region', 'region', 'tmin', 'tmax', 'tmoy'], dtype='object')"
      ]
     },
     "execution_count": 55,
     "metadata": {},
     "output_type": "execute_result"
    }
   ],
   "source": [
    "data3.columns"
   ]
  },
  {
   "cell_type": "code",
   "execution_count": 57,
   "id": "30f268eb-a8c1-444d-9bdd-b352ba344dc2",
   "metadata": {},
   "outputs": [
    {
     "data": {
      "text/html": [
       "<div>\n",
       "<style scoped>\n",
       "    .dataframe tbody tr th:only-of-type {\n",
       "        vertical-align: middle;\n",
       "    }\n",
       "\n",
       "    .dataframe tbody tr th {\n",
       "        vertical-align: top;\n",
       "    }\n",
       "\n",
       "    .dataframe thead th {\n",
       "        text-align: right;\n",
       "    }\n",
       "</style>\n",
       "<table border=\"1\" class=\"dataframe\">\n",
       "  <thead>\n",
       "    <tr style=\"text-align: right;\">\n",
       "      <th></th>\n",
       "      <th>code_insee_region</th>\n",
       "      <th>tmin</th>\n",
       "      <th>tmax</th>\n",
       "      <th>tmoy</th>\n",
       "    </tr>\n",
       "  </thead>\n",
       "  <tbody>\n",
       "    <tr>\n",
       "      <th>count</th>\n",
       "      <td>33943.000000</td>\n",
       "      <td>33943.000000</td>\n",
       "      <td>33943.000000</td>\n",
       "      <td>33943.000000</td>\n",
       "    </tr>\n",
       "    <tr>\n",
       "      <th>mean</th>\n",
       "      <td>53.307692</td>\n",
       "      <td>8.378780</td>\n",
       "      <td>17.752754</td>\n",
       "      <td>13.065799</td>\n",
       "    </tr>\n",
       "    <tr>\n",
       "      <th>std</th>\n",
       "      <td>27.291947</td>\n",
       "      <td>5.917313</td>\n",
       "      <td>7.688100</td>\n",
       "      <td>6.566472</td>\n",
       "    </tr>\n",
       "    <tr>\n",
       "      <th>min</th>\n",
       "      <td>11.000000</td>\n",
       "      <td>-11.980000</td>\n",
       "      <td>-3.750000</td>\n",
       "      <td>-6.480000</td>\n",
       "    </tr>\n",
       "    <tr>\n",
       "      <th>25%</th>\n",
       "      <td>28.000000</td>\n",
       "      <td>3.970000</td>\n",
       "      <td>11.940000</td>\n",
       "      <td>8.140000</td>\n",
       "    </tr>\n",
       "    <tr>\n",
       "      <th>50%</th>\n",
       "      <td>52.000000</td>\n",
       "      <td>8.300000</td>\n",
       "      <td>17.290000</td>\n",
       "      <td>12.580000</td>\n",
       "    </tr>\n",
       "    <tr>\n",
       "      <th>75%</th>\n",
       "      <td>76.000000</td>\n",
       "      <td>12.960000</td>\n",
       "      <td>23.450000</td>\n",
       "      <td>18.100000</td>\n",
       "    </tr>\n",
       "    <tr>\n",
       "      <th>max</th>\n",
       "      <td>94.000000</td>\n",
       "      <td>24.200000</td>\n",
       "      <td>41.680000</td>\n",
       "      <td>32.700000</td>\n",
       "    </tr>\n",
       "  </tbody>\n",
       "</table>\n",
       "</div>"
      ],
      "text/plain": [
       "       code_insee_region          tmin          tmax          tmoy\n",
       "count       33943.000000  33943.000000  33943.000000  33943.000000\n",
       "mean           53.307692      8.378780     17.752754     13.065799\n",
       "std            27.291947      5.917313      7.688100      6.566472\n",
       "min            11.000000    -11.980000     -3.750000     -6.480000\n",
       "25%            28.000000      3.970000     11.940000      8.140000\n",
       "50%            52.000000      8.300000     17.290000     12.580000\n",
       "75%            76.000000     12.960000     23.450000     18.100000\n",
       "max            94.000000     24.200000     41.680000     32.700000"
      ]
     },
     "execution_count": 57,
     "metadata": {},
     "output_type": "execute_result"
    }
   ],
   "source": [
    "data3.describe()"
   ]
  },
  {
   "cell_type": "markdown",
   "id": "491bcfab-48af-4aab-8d45-b2e8f7acb467",
   "metadata": {},
   "source": [
    "## data3_1: moyenne population par region\n",
    "## data3_2: graphique"
   ]
  },
  {
   "cell_type": "code",
   "execution_count": 60,
   "id": "e7a8ad60-6e0c-47f2-b5d2-050a6f46d23e",
   "metadata": {},
   "outputs": [
    {
     "data": {
      "image/png": "[encoded data removed]",
      "text/plain": [
       "<Figure size 640x480 with 1 Axes>"
      ]
     },
     "metadata": {},
     "output_type": "display_data"
    }
   ],
   "source": [
    "data3_1 = data3.groupby(\"region\").mean(numeric_only=True).tmoy.sort_values()\n",
    "data3_2 = data3_1.plot(kind=\"bar\")"
   ]
  },
  {
   "cell_type": "markdown",
   "id": "32eda15c-d1e0-4552-98cc-7ba75144e8e4",
   "metadata": {},
   "source": [
    "## Data1"
   ]
  },
  {
   "cell_type": "code",
   "execution_count": 62,
   "id": "801437e7-0501-429c-95cc-ce74fada3969",
   "metadata": {},
   "outputs": [],
   "source": [
    "data1.rename(columns={\"Région\": \"region\",'Code INSEE région': 'Code INSEE region'}, inplace=True)"
   ]
  },
  {
   "cell_type": "markdown",
   "id": "fb4a5499-85ad-4ffa-9dae-921d9154d8cb",
   "metadata": {},
   "source": [
    "## Data4: Le merge de (data1 & data2_1 & data3_1)"
   ]
  },
  {
   "cell_type": "code",
   "execution_count": 66,
   "id": "0b0fcd8c-8cf2-4b9d-9f7d-6287eb67d15a",
   "metadata": {},
   "outputs": [],
   "source": [
    "data4 = pd.merge(data2_1, data3_1, on='region', how='inner')\n",
    "data4 = pd.merge(data1, data4, on='region', how='inner')"
   ]
  },
  {
   "cell_type": "code",
   "execution_count": 67,
   "id": "271f920c-faba-4c66-aa5a-faf7b9170104",
   "metadata": {},
   "outputs": [
    {
     "data": {
      "text/html": [
       "<div>\n",
       "<style scoped>\n",
       "    .dataframe tbody tr th:only-of-type {\n",
       "        vertical-align: middle;\n",
       "    }\n",
       "\n",
       "    .dataframe tbody tr th {\n",
       "        vertical-align: top;\n",
       "    }\n",
       "\n",
       "    .dataframe thead th {\n",
       "        text-align: right;\n",
       "    }\n",
       "</style>\n",
       "<table border=\"1\" class=\"dataframe\">\n",
       "  <thead>\n",
       "    <tr style=\"text-align: right;\">\n",
       "      <th></th>\n",
       "      <th>Code INSEE region</th>\n",
       "      <th>region</th>\n",
       "      <th>Nature</th>\n",
       "      <th>Date</th>\n",
       "      <th>Heure</th>\n",
       "      <th>Date - Heure</th>\n",
       "      <th>Consommation (MW)</th>\n",
       "      <th>Thermique (MW)</th>\n",
       "      <th>Nucléaire (MW)</th>\n",
       "      <th>Eolien (MW)</th>\n",
       "      <th>...</th>\n",
       "      <th>TCH Eolien (%)</th>\n",
       "      <th>TCO Solaire (%)</th>\n",
       "      <th>TCH Solaire (%)</th>\n",
       "      <th>TCO Hydraulique (%)</th>\n",
       "      <th>TCH Hydraulique (%)</th>\n",
       "      <th>TCO Bioénergies (%)</th>\n",
       "      <th>TCH Bioénergies (%)</th>\n",
       "      <th>Column 30</th>\n",
       "      <th>Total</th>\n",
       "      <th>tmoy</th>\n",
       "    </tr>\n",
       "  </thead>\n",
       "  <tbody>\n",
       "    <tr>\n",
       "      <th>0</th>\n",
       "      <td>44</td>\n",
       "      <td>Grand Est</td>\n",
       "      <td>Données consolidées</td>\n",
       "      <td>2021-01-11</td>\n",
       "      <td>14:00</td>\n",
       "      <td>2021-01-11T14:00:00+01:00</td>\n",
       "      <td>7403.0</td>\n",
       "      <td>2227.0</td>\n",
       "      <td>9175.0</td>\n",
       "      <td>356.0</td>\n",
       "      <td>...</td>\n",
       "      <td>23.99</td>\n",
       "      <td>1.58</td>\n",
       "      <td>48.55</td>\n",
       "      <td>NaN</td>\n",
       "      <td>NaN</td>\n",
       "      <td>NaN</td>\n",
       "      <td>NaN</td>\n",
       "      <td>NaN</td>\n",
       "      <td>5.572013e+06</td>\n",
       "      <td>11.448234</td>\n",
       "    </tr>\n",
       "    <tr>\n",
       "      <th>1</th>\n",
       "      <td>44</td>\n",
       "      <td>Grand Est</td>\n",
       "      <td>Données consolidées</td>\n",
       "      <td>2021-01-11</td>\n",
       "      <td>23:00</td>\n",
       "      <td>2021-01-11T23:00:00+01:00</td>\n",
       "      <td>6544.0</td>\n",
       "      <td>2148.0</td>\n",
       "      <td>9127.0</td>\n",
       "      <td>1963.0</td>\n",
       "      <td>...</td>\n",
       "      <td>22.74</td>\n",
       "      <td>1.80</td>\n",
       "      <td>48.96</td>\n",
       "      <td>NaN</td>\n",
       "      <td>NaN</td>\n",
       "      <td>NaN</td>\n",
       "      <td>NaN</td>\n",
       "      <td>NaN</td>\n",
       "      <td>5.572013e+06</td>\n",
       "      <td>11.448234</td>\n",
       "    </tr>\n",
       "  </tbody>\n",
       "</table>\n",
       "<p>2 rows × 34 columns</p>\n",
       "</div>"
      ],
      "text/plain": [
       "   Code INSEE region     region               Nature        Date  Heure  \\\n",
       "0                 44  Grand Est  Données consolidées  2021-01-11  14:00   \n",
       "1                 44  Grand Est  Données consolidées  2021-01-11  23:00   \n",
       "\n",
       "                Date - Heure  Consommation (MW)  Thermique (MW)  \\\n",
       "0  2021-01-11T14:00:00+01:00             7403.0          2227.0   \n",
       "1  2021-01-11T23:00:00+01:00             6544.0          2148.0   \n",
       "\n",
       "   Nucléaire (MW)  Eolien (MW)  ...  TCH Eolien (%)  TCO Solaire (%)  \\\n",
       "0          9175.0        356.0  ...           23.99             1.58   \n",
       "1          9127.0       1963.0  ...           22.74             1.80   \n",
       "\n",
       "   TCH Solaire (%)  TCO Hydraulique (%)  TCH Hydraulique (%)  \\\n",
       "0            48.55                  NaN                  NaN   \n",
       "1            48.96                  NaN                  NaN   \n",
       "\n",
       "   TCO Bioénergies (%)  TCH Bioénergies (%)  Column 30         Total  \\\n",
       "0                  NaN                  NaN        NaN  5.572013e+06   \n",
       "1                  NaN                  NaN        NaN  5.572013e+06   \n",
       "\n",
       "        tmoy  \n",
       "0  11.448234  \n",
       "1  11.448234  \n",
       "\n",
       "[2 rows x 34 columns]"
      ]
     },
     "execution_count": 67,
     "metadata": {},
     "output_type": "execute_result"
    }
   ],
   "source": [
    "data4[:2]"
   ]
  },
  {
   "cell_type": "markdown",
   "id": "67324146-8125-4ddb-857d-4918a6b959dd",
   "metadata": {},
   "source": [
    "## Ajustement colonnes & compréhension"
   ]
  },
  {
   "cell_type": "code",
   "execution_count": 69,
   "id": "6433c0e1-9f69-4930-9636-1601214620f1",
   "metadata": {},
   "outputs": [],
   "source": [
    "data4 = data4.drop(['Code INSEE region', 'Nature', 'Column 30'], axis=1)"
   ]
  },
  {
   "cell_type": "code",
   "execution_count": 71,
   "id": "1759a631-b7c7-455c-8e5b-00fd902504e0",
   "metadata": {},
   "outputs": [],
   "source": [
    "#data4.columns"
   ]
  },
  {
   "cell_type": "code",
   "execution_count": 72,
   "id": "dbcf0df5-0b0f-4158-bfc2-7c74ebc16da6",
   "metadata": {},
   "outputs": [
    {
     "data": {
      "text/plain": [
       "(1980288, 31)"
      ]
     },
     "execution_count": 72,
     "metadata": {},
     "output_type": "execute_result"
    }
   ],
   "source": [
    "data4.shape"
   ]
  },
  {
   "cell_type": "code",
   "execution_count": 77,
   "id": "68493c56-386d-4f46-abf7-4286c9d02019",
   "metadata": {},
   "outputs": [],
   "source": [
    "#(data4.isna().sum()/data4.shape[0]*100).round(2)"
   ]
  },
  {
   "cell_type": "markdown",
   "id": "592a0a8e-e9d8-43cc-bc93-8a7c61165771",
   "metadata": {},
   "source": [
    "# TCO & TCH"
   ]
  },
  {
   "cell_type": "code",
   "execution_count": 80,
   "id": "a30918c5-e35e-420f-acc1-e3500eea8649",
   "metadata": {},
   "outputs": [],
   "source": [
    "tab_TCO = ['TCO Thermique (%)', 'TCO Nucléaire (%)', 'TCO Eolien (%)', 'TCO Solaire (%)', 'TCO Hydraulique (%)', 'TCO Bioénergies (%)']\n",
    "tab_TCH = ['TCH Thermique (%)', 'TCH Nucléaire (%)', 'TCH Eolien (%)', 'TCH Solaire (%)', 'TCH Hydraulique (%)', 'TCH Bioénergies (%)']"
   ]
  },
  {
   "cell_type": "code",
   "execution_count": 82,
   "id": "bc9b3a51-28fe-4751-9bc3-88ae45df3a9d",
   "metadata": {},
   "outputs": [
    {
     "data": {
      "text/plain": [
       "TCO Thermique (%)      1472256\n",
       "TCO Nucléaire (%)      1582176\n",
       "TCO Eolien (%)         1472256\n",
       "TCO Solaire (%)        1472256\n",
       "TCO Hydraulique (%)    1716480\n",
       "TCO Bioénergies (%)    1716480\n",
       "dtype: int64"
      ]
     },
     "execution_count": 82,
     "metadata": {},
     "output_type": "execute_result"
    }
   ],
   "source": [
    "data4[tab_TCO].isna().sum()"
   ]
  },
  {
   "cell_type": "code",
   "execution_count": 84,
   "id": "e22a1ae5-cc40-46c0-a893-4b64011b63de",
   "metadata": {},
   "outputs": [
    {
     "data": {
      "text/plain": [
       "TCH Thermique (%)      1472256\n",
       "TCH Nucléaire (%)      1582176\n",
       "TCH Eolien (%)         1472256\n",
       "TCH Solaire (%)        1472256\n",
       "TCH Hydraulique (%)    1716480\n",
       "TCH Bioénergies (%)    1716480\n",
       "dtype: int64"
      ]
     },
     "execution_count": 84,
     "metadata": {},
     "output_type": "execute_result"
    }
   ],
   "source": [
    "data4[tab_TCH].isna().sum()"
   ]
  },
  {
   "cell_type": "code",
   "execution_count": 86,
   "id": "24ab7f17-acaa-4e3a-b9ac-28158d571233",
   "metadata": {},
   "outputs": [
    {
     "data": {
      "text/plain": [
       "Index(['region', 'Date', 'Heure', 'Date - Heure', 'Consommation (MW)',\n",
       "       'Thermique (MW)', 'Nucléaire (MW)', 'Eolien (MW)', 'Solaire (MW)',\n",
       "       'Hydraulique (MW)', 'Pompage (MW)', 'Bioénergies (MW)',\n",
       "       'Ech. physiques (MW)', 'Stockage batterie', 'Déstockage batterie',\n",
       "       'Eolien terrestre', 'Eolien offshore', 'TCO Thermique (%)',\n",
       "       'TCH Thermique (%)', 'TCO Nucléaire (%)', 'TCH Nucléaire (%)',\n",
       "       'TCO Eolien (%)', 'TCH Eolien (%)', 'TCO Solaire (%)',\n",
       "       'TCH Solaire (%)', 'TCO Hydraulique (%)', 'TCH Hydraulique (%)',\n",
       "       'TCO Bioénergies (%)', 'TCH Bioénergies (%)', 'Total', 'tmoy'],\n",
       "      dtype='object')"
      ]
     },
     "execution_count": 86,
     "metadata": {},
     "output_type": "execute_result"
    }
   ],
   "source": [
    "data4.columns"
   ]
  },
  {
   "cell_type": "code",
   "execution_count": 88,
   "id": "800a73f1-01be-4f7d-841b-43e21d866f1a",
   "metadata": {},
   "outputs": [
    {
     "data": {
      "text/plain": [
       "Index(['region', 'Date', 'Consommation (MW)', 'Thermique (MW)',\n",
       "       'Nucléaire (MW)', 'Eolien (MW)', 'Solaire (MW)', 'Hydraulique (MW)',\n",
       "       'Bioénergies (MW)', 'TCO Nucléaire (%)', 'TCO Eolien (%)',\n",
       "       'TCO Solaire (%)', 'TCO Hydraulique (%)', 'TCO Bioénergies (%)',\n",
       "       'Total', 'tmoy'],\n",
       "      dtype='object')"
      ]
     },
     "execution_count": 88,
     "metadata": {},
     "output_type": "execute_result"
    }
   ],
   "source": [
    "data_FINAL = data4.drop(tab_TCH, axis=1)\n",
    "data_FINAL = data_FINAL.drop(['Heure', 'Date - Heure', 'Pompage (MW)', 'Ech. physiques (MW)', 'Stockage batterie', 'Déstockage batterie', 'Eolien terrestre', 'Eolien offshore', 'TCO Thermique (%)'], axis=1)\n",
    "data_FINAL.columns"
   ]
  },
  {
   "cell_type": "code",
   "execution_count": 89,
   "id": "975b9e13-8274-4c53-b6f1-58341fb6b6d1",
   "metadata": {},
   "outputs": [
    {
     "data": {
      "text/plain": [
       "(1980288, 16)"
      ]
     },
     "execution_count": 89,
     "metadata": {},
     "output_type": "execute_result"
    }
   ],
   "source": [
    "data_FINAL.shape"
   ]
  },
  {
   "cell_type": "markdown",
   "id": "5896c18c-89fb-4390-84eb-62f2aac15d21",
   "metadata": {},
   "source": [
    "## TCO : Taux de Consommation Optimisé"
   ]
  },
  {
   "cell_type": "code",
   "execution_count": 93,
   "id": "091da265-f3ef-45da-93b5-d142c619a72e",
   "metadata": {},
   "outputs": [],
   "source": [
    "data_TCO = data4.drop(tab_TCH, axis=1)\n",
    "data_TCO = data_TCO.drop(['Date', 'Heure', 'Date - Heure'], axis=1)\n",
    "data_TCO = data_TCO.drop(['Consommation (MW)', 'Thermique (MW)', 'Nucléaire (MW)', 'Eolien (MW)', 'Solaire (MW)', 'Hydraulique (MW)', 'Pompage (MW)', 'Bioénergies (MW)', 'Ech. physiques (MW)'], axis=1)\n",
    "data_TCO = data_TCO.drop(['Stockage batterie', 'Déstockage batterie', 'Eolien terrestre', 'Eolien offshore'], axis=1)"
   ]
  },
  {
   "cell_type": "code",
   "execution_count": 94,
   "id": "60523ce6-ac5c-4225-8fa1-d41dc1152b4b",
   "metadata": {},
   "outputs": [
    {
     "data": {
      "text/plain": [
       "Index(['region', 'TCO Thermique (%)', 'TCO Nucléaire (%)', 'TCO Eolien (%)',\n",
       "       'TCO Solaire (%)', 'TCO Hydraulique (%)', 'TCO Bioénergies (%)',\n",
       "       'Total', 'tmoy'],\n",
       "      dtype='object')"
      ]
     },
     "execution_count": 94,
     "metadata": {},
     "output_type": "execute_result"
    }
   ],
   "source": [
    "data_TCO.columns"
   ]
  },
  {
   "cell_type": "code",
   "execution_count": 95,
   "id": "e80e4ff1-d910-4c85-85fc-a2ec46da43ff",
   "metadata": {},
   "outputs": [
    {
     "data": {
      "text/html": [
       "<div>\n",
       "<style scoped>\n",
       "    .dataframe tbody tr th:only-of-type {\n",
       "        vertical-align: middle;\n",
       "    }\n",
       "\n",
       "    .dataframe tbody tr th {\n",
       "        vertical-align: top;\n",
       "    }\n",
       "\n",
       "    .dataframe thead th {\n",
       "        text-align: right;\n",
       "    }\n",
       "</style>\n",
       "<table border=\"1\" class=\"dataframe\">\n",
       "  <thead>\n",
       "    <tr style=\"text-align: right;\">\n",
       "      <th></th>\n",
       "      <th>TCO Thermique (%)</th>\n",
       "      <th>TCO Nucléaire (%)</th>\n",
       "      <th>TCO Eolien (%)</th>\n",
       "      <th>TCO Solaire (%)</th>\n",
       "      <th>TCO Hydraulique (%)</th>\n",
       "      <th>TCO Bioénergies (%)</th>\n",
       "      <th>Total</th>\n",
       "      <th>tmoy</th>\n",
       "    </tr>\n",
       "  </thead>\n",
       "  <tbody>\n",
       "    <tr>\n",
       "      <th>count</th>\n",
       "      <td>508032.000000</td>\n",
       "      <td>398112.000000</td>\n",
       "      <td>508032.000000</td>\n",
       "      <td>508032.000000</td>\n",
       "      <td>263808.000000</td>\n",
       "      <td>263808.000000</td>\n",
       "      <td>1.980288e+06</td>\n",
       "      <td>1.980288e+06</td>\n",
       "    </tr>\n",
       "    <tr>\n",
       "      <th>mean</th>\n",
       "      <td>8.393588</td>\n",
       "      <td>55.843971</td>\n",
       "      <td>9.922807</td>\n",
       "      <td>2.799379</td>\n",
       "      <td>11.723816</td>\n",
       "      <td>2.343480</td>\n",
       "      <td>5.407674e+06</td>\n",
       "      <td>1.277008e+01</td>\n",
       "    </tr>\n",
       "    <tr>\n",
       "      <th>std</th>\n",
       "      <td>10.739859</td>\n",
       "      <td>93.488097</td>\n",
       "      <td>13.727964</td>\n",
       "      <td>5.318540</td>\n",
       "      <td>17.097511</td>\n",
       "      <td>0.874629</td>\n",
       "      <td>2.594125e+06</td>\n",
       "      <td>1.142057e+00</td>\n",
       "    </tr>\n",
       "    <tr>\n",
       "      <th>min</th>\n",
       "      <td>0.000000</td>\n",
       "      <td>0.000000</td>\n",
       "      <td>0.000000</td>\n",
       "      <td>0.000000</td>\n",
       "      <td>0.000000</td>\n",
       "      <td>0.630000</td>\n",
       "      <td>2.582894e+06</td>\n",
       "      <td>1.144823e+01</td>\n",
       "    </tr>\n",
       "    <tr>\n",
       "      <th>25%</th>\n",
       "      <td>0.960000</td>\n",
       "      <td>0.000000</td>\n",
       "      <td>0.360000</td>\n",
       "      <td>0.030000</td>\n",
       "      <td>0.120000</td>\n",
       "      <td>1.740000</td>\n",
       "      <td>3.361182e+06</td>\n",
       "      <td>1.199914e+01</td>\n",
       "    </tr>\n",
       "    <tr>\n",
       "      <th>50%</th>\n",
       "      <td>4.170000</td>\n",
       "      <td>4.520000</td>\n",
       "      <td>3.980000</td>\n",
       "      <td>1.680000</td>\n",
       "      <td>1.980000</td>\n",
       "      <td>2.150000</td>\n",
       "      <td>5.330392e+06</td>\n",
       "      <td>1.237539e+01</td>\n",
       "    </tr>\n",
       "    <tr>\n",
       "      <th>75%</th>\n",
       "      <td>11.450000</td>\n",
       "      <td>87.490000</td>\n",
       "      <td>14.460000</td>\n",
       "      <td>2.630000</td>\n",
       "      <td>18.370000</td>\n",
       "      <td>2.740000</td>\n",
       "      <td>6.016517e+06</td>\n",
       "      <td>1.335857e+01</td>\n",
       "    </tr>\n",
       "    <tr>\n",
       "      <th>max</th>\n",
       "      <td>93.780000</td>\n",
       "      <td>784.250000</td>\n",
       "      <td>103.560000</td>\n",
       "      <td>80.180000</td>\n",
       "      <td>115.960000</td>\n",
       "      <td>9.690000</td>\n",
       "      <td>1.225450e+07</td>\n",
       "      <td>1.518992e+01</td>\n",
       "    </tr>\n",
       "  </tbody>\n",
       "</table>\n",
       "</div>"
      ],
      "text/plain": [
       "       TCO Thermique (%)  TCO Nucléaire (%)  TCO Eolien (%)  TCO Solaire (%)  \\\n",
       "count      508032.000000      398112.000000   508032.000000    508032.000000   \n",
       "mean            8.393588          55.843971        9.922807         2.799379   \n",
       "std            10.739859          93.488097       13.727964         5.318540   \n",
       "min             0.000000           0.000000        0.000000         0.000000   \n",
       "25%             0.960000           0.000000        0.360000         0.030000   \n",
       "50%             4.170000           4.520000        3.980000         1.680000   \n",
       "75%            11.450000          87.490000       14.460000         2.630000   \n",
       "max            93.780000         784.250000      103.560000        80.180000   \n",
       "\n",
       "       TCO Hydraulique (%)  TCO Bioénergies (%)         Total          tmoy  \n",
       "count        263808.000000        263808.000000  1.980288e+06  1.980288e+06  \n",
       "mean             11.723816             2.343480  5.407674e+06  1.277008e+01  \n",
       "std              17.097511             0.874629  2.594125e+06  1.142057e+00  \n",
       "min               0.000000             0.630000  2.582894e+06  1.144823e+01  \n",
       "25%               0.120000             1.740000  3.361182e+06  1.199914e+01  \n",
       "50%               1.980000             2.150000  5.330392e+06  1.237539e+01  \n",
       "75%              18.370000             2.740000  6.016517e+06  1.335857e+01  \n",
       "max             115.960000             9.690000  1.225450e+07  1.518992e+01  "
      ]
     },
     "execution_count": 95,
     "metadata": {},
     "output_type": "execute_result"
    }
   ],
   "source": [
    "data_TCO.describe()"
   ]
  },
  {
   "cell_type": "markdown",
   "id": "1d99b385-ed1f-4b35-869b-044c360028c9",
   "metadata": {},
   "source": [
    "Dataframe des TCO avec chaque élément qui à au moins un une surconsommation (sur opti, TCO>100)."
   ]
  },
  {
   "cell_type": "code",
   "execution_count": 97,
   "id": "e7f0c921-db56-43a0-be0c-28f6e3cda7f0",
   "metadata": {},
   "outputs": [
    {
     "data": {
      "text/html": [
       "<div>\n",
       "<style scoped>\n",
       "    .dataframe tbody tr th:only-of-type {\n",
       "        vertical-align: middle;\n",
       "    }\n",
       "\n",
       "    .dataframe tbody tr th {\n",
       "        vertical-align: top;\n",
       "    }\n",
       "\n",
       "    .dataframe thead th {\n",
       "        text-align: right;\n",
       "    }\n",
       "</style>\n",
       "<table border=\"1\" class=\"dataframe\">\n",
       "  <thead>\n",
       "    <tr style=\"text-align: right;\">\n",
       "      <th></th>\n",
       "      <th>region</th>\n",
       "      <th>TCO Thermique (%)</th>\n",
       "      <th>TCO Nucléaire (%)</th>\n",
       "      <th>TCO Eolien (%)</th>\n",
       "      <th>TCO Solaire (%)</th>\n",
       "      <th>TCO Hydraulique (%)</th>\n",
       "      <th>TCO Bioénergies (%)</th>\n",
       "      <th>Total</th>\n",
       "      <th>tmoy</th>\n",
       "    </tr>\n",
       "  </thead>\n",
       "  <tbody>\n",
       "    <tr>\n",
       "      <th>2587</th>\n",
       "      <td>Grand Est</td>\n",
       "      <td>29.10</td>\n",
       "      <td>104.44</td>\n",
       "      <td>25.11</td>\n",
       "      <td>0.02</td>\n",
       "      <td>9.79</td>\n",
       "      <td>3.05</td>\n",
       "      <td>5.572013e+06</td>\n",
       "      <td>11.448234</td>\n",
       "    </tr>\n",
       "    <tr>\n",
       "      <th>2589</th>\n",
       "      <td>Grand Est</td>\n",
       "      <td>31.49</td>\n",
       "      <td>104.36</td>\n",
       "      <td>20.16</td>\n",
       "      <td>0.00</td>\n",
       "      <td>8.49</td>\n",
       "      <td>2.97</td>\n",
       "      <td>5.572013e+06</td>\n",
       "      <td>11.448234</td>\n",
       "    </tr>\n",
       "    <tr>\n",
       "      <th>2718</th>\n",
       "      <td>Grand Est</td>\n",
       "      <td>38.77</td>\n",
       "      <td>101.12</td>\n",
       "      <td>9.29</td>\n",
       "      <td>2.84</td>\n",
       "      <td>11.93</td>\n",
       "      <td>3.11</td>\n",
       "      <td>5.572013e+06</td>\n",
       "      <td>11.448234</td>\n",
       "    </tr>\n",
       "  </tbody>\n",
       "</table>\n",
       "</div>"
      ],
      "text/plain": [
       "         region  TCO Thermique (%)  TCO Nucléaire (%)  TCO Eolien (%)  \\\n",
       "2587  Grand Est              29.10             104.44           25.11   \n",
       "2589  Grand Est              31.49             104.36           20.16   \n",
       "2718  Grand Est              38.77             101.12            9.29   \n",
       "\n",
       "      TCO Solaire (%)  TCO Hydraulique (%)  TCO Bioénergies (%)         Total  \\\n",
       "2587             0.02                 9.79                 3.05  5.572013e+06   \n",
       "2589             0.00                 8.49                 2.97  5.572013e+06   \n",
       "2718             2.84                11.93                 3.11  5.572013e+06   \n",
       "\n",
       "           tmoy  \n",
       "2587  11.448234  \n",
       "2589  11.448234  \n",
       "2718  11.448234  "
      ]
     },
     "execution_count": 97,
     "metadata": {},
     "output_type": "execute_result"
    }
   ],
   "source": [
    "mask_TCO = np.logical_or(data_TCO[tab_TCO[0]]>100, data_TCO[tab_TCO[1]]>100)\n",
    "mask_TCO = np.logical_or(mask_TCO, data_TCO[tab_TCO[2]]>100)\n",
    "mask_TCO = np.logical_or(mask_TCO, data_TCO[tab_TCO[3]]>100)\n",
    "mask_TCO = np.logical_or(mask_TCO, data_TCO[tab_TCO[4]]>100)\n",
    "mask_TCO = np.logical_or(mask_TCO, data_TCO[tab_TCO[5]]>100)\n",
    "filtered_TCO = data_TCO[mask_TCO]\n",
    "filtered_TCO[:3]"
   ]
  },
  {
   "cell_type": "code",
   "execution_count": 100,
   "id": "91e39caf-11e9-4193-92f9-da2f31cacbe2",
   "metadata": {},
   "outputs": [
    {
     "data": {
      "text/plain": [
       "(90247, 9)"
      ]
     },
     "execution_count": 100,
     "metadata": {},
     "output_type": "execute_result"
    }
   ],
   "source": [
    "filtered_TCO.shape"
   ]
  },
  {
   "cell_type": "code",
   "execution_count": 101,
   "id": "dfd04ae6-0970-4ece-b666-9e89bbcb3154",
   "metadata": {},
   "outputs": [
    {
     "data": {
      "text/plain": [
       "Index(['region', 'TCO Thermique (%)', 'TCO Nucléaire (%)', 'TCO Eolien (%)',\n",
       "       'TCO Solaire (%)', 'TCO Hydraulique (%)', 'TCO Bioénergies (%)',\n",
       "       'Total', 'tmoy'],\n",
       "      dtype='object')"
      ]
     },
     "execution_count": 101,
     "metadata": {},
     "output_type": "execute_result"
    }
   ],
   "source": [
    "filtered_TCO.columns"
   ]
  },
  {
   "cell_type": "markdown",
   "id": "953cce8d-20c8-4777-8bc2-6db217707ab6",
   "metadata": {},
   "source": [
    "Liste de nombre de TCO > 100 par catégorie."
   ]
  },
  {
   "cell_type": "code",
   "execution_count": 103,
   "id": "a29a52b6-68e8-4818-bb95-376de50d2034",
   "metadata": {},
   "outputs": [
    {
     "data": {
      "text/plain": [
       "[0, 90242, 5, 0, 42, 0]"
      ]
     },
     "execution_count": 103,
     "metadata": {},
     "output_type": "execute_result"
    }
   ],
   "source": [
    "lst_TCO_par_cat = [(filtered_TCO[tab_TCO[0]]>100).sum(),(filtered_TCO[tab_TCO[1]]>100).sum(),(filtered_TCO[tab_TCO[2]]>100).sum(),(filtered_TCO[tab_TCO[3]]>100).sum(),(filtered_TCO[tab_TCO[4]]>100).sum(),(filtered_TCO[tab_TCO[5]]>100).sum()]\n",
    "lst_TCO_par_cat  # ['TCO Thermique (%)', 'TCO Nucléaire (%)', 'TCO Eolien (%)', 'TCO Solaire (%)', 'TCO Hydraulique (%)', 'TCO Bioénergies (%)']"
   ]
  },
  {
   "cell_type": "markdown",
   "id": "b41ea34e-3237-4883-a7ad-dd406e1ee23b",
   "metadata": {},
   "source": [
    "## Remarque:\n",
    "    Sur optimisation qui est principalement du NUCLEAIRE"
   ]
  },
  {
   "cell_type": "code",
   "execution_count": 109,
   "id": "39eb6c8f-72d8-4ea7-a1ae-201b76dd250c",
   "metadata": {},
   "outputs": [
    {
     "data": {
      "text/plain": [
       "'#mask_TCO1 = filtered_TCO[tab_TCO[0]]>100\\nmask_TCO2 = filtered_TCO[tab_TCO[1]]>100\\ntest_TCO2 = filtered_TCO[tab_TCO[1]][mask_TCO2]\\ntest_TCO2'"
      ]
     },
     "execution_count": 109,
     "metadata": {},
     "output_type": "execute_result"
    }
   ],
   "source": [
    "\"\"\"#mask_TCO1 = filtered_TCO[tab_TCO[0]]>100\n",
    "mask_TCO2 = filtered_TCO[tab_TCO[1]]>100\n",
    "test_TCO2 = filtered_TCO[tab_TCO[1]][mask_TCO2]\n",
    "test_TCO2\"\"\""
   ]
  },
  {
   "cell_type": "code",
   "execution_count": null,
   "id": "bf1930cf-f402-491c-83d1-25e17a5b60d3",
   "metadata": {},
   "outputs": [],
   "source": []
  },
  {
   "cell_type": "markdown",
   "id": "5e4325b4-46f5-4995-bc74-03e2cb45c9da",
   "metadata": {},
   "source": [
    "## TCH : Taux de Changement Horaire"
   ]
  },
  {
   "cell_type": "code",
   "execution_count": 114,
   "id": "cbd4e1a2-22c5-4b78-91ac-cd6e32dc8d47",
   "metadata": {},
   "outputs": [],
   "source": [
    "data_TCH = data4.drop(tab_TCO, axis=1)\n",
    "data_TCH = data_TCH.drop(['Date', 'Heure', 'Date - Heure'], axis=1)\n",
    "data_TCH = data_TCH.drop(['Consommation (MW)', 'Thermique (MW)', 'Nucléaire (MW)', 'Eolien (MW)', 'Solaire (MW)', 'Hydraulique (MW)', 'Pompage (MW)', 'Bioénergies (MW)', 'Ech. physiques (MW)'], axis=1)\n",
    "data_TCH = data_TCH.drop(['Stockage batterie', 'Déstockage batterie', 'Eolien terrestre', 'Eolien offshore'], axis=1)"
   ]
  },
  {
   "cell_type": "code",
   "execution_count": 115,
   "id": "f16fedb4-5b03-4898-876c-d3c1fd252f34",
   "metadata": {},
   "outputs": [
    {
     "data": {
      "text/plain": [
       "Index(['region', 'TCH Thermique (%)', 'TCH Nucléaire (%)', 'TCH Eolien (%)',\n",
       "       'TCH Solaire (%)', 'TCH Hydraulique (%)', 'TCH Bioénergies (%)',\n",
       "       'Total', 'tmoy'],\n",
       "      dtype='object')"
      ]
     },
     "execution_count": 115,
     "metadata": {},
     "output_type": "execute_result"
    }
   ],
   "source": [
    "data_TCH.columns"
   ]
  },
  {
   "cell_type": "code",
   "execution_count": 116,
   "id": "d2ad3069-3ee6-4b4f-805c-9496c130fb2c",
   "metadata": {},
   "outputs": [
    {
     "data": {
      "text/html": [
       "<div>\n",
       "<style scoped>\n",
       "    .dataframe tbody tr th:only-of-type {\n",
       "        vertical-align: middle;\n",
       "    }\n",
       "\n",
       "    .dataframe tbody tr th {\n",
       "        vertical-align: top;\n",
       "    }\n",
       "\n",
       "    .dataframe thead th {\n",
       "        text-align: right;\n",
       "    }\n",
       "</style>\n",
       "<table border=\"1\" class=\"dataframe\">\n",
       "  <thead>\n",
       "    <tr style=\"text-align: right;\">\n",
       "      <th></th>\n",
       "      <th>TCH Thermique (%)</th>\n",
       "      <th>TCH Nucléaire (%)</th>\n",
       "      <th>TCH Eolien (%)</th>\n",
       "      <th>TCH Solaire (%)</th>\n",
       "      <th>TCH Hydraulique (%)</th>\n",
       "      <th>TCH Bioénergies (%)</th>\n",
       "      <th>Total</th>\n",
       "      <th>tmoy</th>\n",
       "    </tr>\n",
       "  </thead>\n",
       "  <tbody>\n",
       "    <tr>\n",
       "      <th>count</th>\n",
       "      <td>508032.000000</td>\n",
       "      <td>398112.000000</td>\n",
       "      <td>508032.000000</td>\n",
       "      <td>508032.000000</td>\n",
       "      <td>263808.000000</td>\n",
       "      <td>263808.000000</td>\n",
       "      <td>1.980288e+06</td>\n",
       "      <td>1.980288e+06</td>\n",
       "    </tr>\n",
       "    <tr>\n",
       "      <th>mean</th>\n",
       "      <td>22.848931</td>\n",
       "      <td>31.110610</td>\n",
       "      <td>27.050076</td>\n",
       "      <td>33.714231</td>\n",
       "      <td>27.980819</td>\n",
       "      <td>53.879981</td>\n",
       "      <td>5.407674e+06</td>\n",
       "      <td>1.277008e+01</td>\n",
       "    </tr>\n",
       "    <tr>\n",
       "      <th>std</th>\n",
       "      <td>20.826112</td>\n",
       "      <td>30.566573</td>\n",
       "      <td>20.906299</td>\n",
       "      <td>26.536978</td>\n",
       "      <td>27.480661</td>\n",
       "      <td>12.776024</td>\n",
       "      <td>2.594125e+06</td>\n",
       "      <td>1.142057e+00</td>\n",
       "    </tr>\n",
       "    <tr>\n",
       "      <th>min</th>\n",
       "      <td>0.000000</td>\n",
       "      <td>0.000000</td>\n",
       "      <td>0.000000</td>\n",
       "      <td>0.000000</td>\n",
       "      <td>0.000000</td>\n",
       "      <td>13.990000</td>\n",
       "      <td>2.582894e+06</td>\n",
       "      <td>1.144823e+01</td>\n",
       "    </tr>\n",
       "    <tr>\n",
       "      <th>25%</th>\n",
       "      <td>5.560000</td>\n",
       "      <td>0.000000</td>\n",
       "      <td>9.140000</td>\n",
       "      <td>0.170000</td>\n",
       "      <td>12.180000</td>\n",
       "      <td>45.450000</td>\n",
       "      <td>3.361182e+06</td>\n",
       "      <td>1.199914e+01</td>\n",
       "    </tr>\n",
       "    <tr>\n",
       "      <th>50%</th>\n",
       "      <td>17.310000</td>\n",
       "      <td>27.040000</td>\n",
       "      <td>23.320000</td>\n",
       "      <td>39.940000</td>\n",
       "      <td>25.100000</td>\n",
       "      <td>53.690000</td>\n",
       "      <td>5.330392e+06</td>\n",
       "      <td>1.237539e+01</td>\n",
       "    </tr>\n",
       "    <tr>\n",
       "      <th>75%</th>\n",
       "      <td>34.990000</td>\n",
       "      <td>54.880000</td>\n",
       "      <td>41.870000</td>\n",
       "      <td>57.500000</td>\n",
       "      <td>42.100000</td>\n",
       "      <td>63.980000</td>\n",
       "      <td>6.016517e+06</td>\n",
       "      <td>1.335857e+01</td>\n",
       "    </tr>\n",
       "    <tr>\n",
       "      <th>max</th>\n",
       "      <td>99.210000</td>\n",
       "      <td>102.010000</td>\n",
       "      <td>117.980000</td>\n",
       "      <td>112.430000</td>\n",
       "      <td>2550.000000</td>\n",
       "      <td>243.560000</td>\n",
       "      <td>1.225450e+07</td>\n",
       "      <td>1.518992e+01</td>\n",
       "    </tr>\n",
       "  </tbody>\n",
       "</table>\n",
       "</div>"
      ],
      "text/plain": [
       "       TCH Thermique (%)  TCH Nucléaire (%)  TCH Eolien (%)  TCH Solaire (%)  \\\n",
       "count      508032.000000      398112.000000   508032.000000    508032.000000   \n",
       "mean           22.848931          31.110610       27.050076        33.714231   \n",
       "std            20.826112          30.566573       20.906299        26.536978   \n",
       "min             0.000000           0.000000        0.000000         0.000000   \n",
       "25%             5.560000           0.000000        9.140000         0.170000   \n",
       "50%            17.310000          27.040000       23.320000        39.940000   \n",
       "75%            34.990000          54.880000       41.870000        57.500000   \n",
       "max            99.210000         102.010000      117.980000       112.430000   \n",
       "\n",
       "       TCH Hydraulique (%)  TCH Bioénergies (%)         Total          tmoy  \n",
       "count        263808.000000        263808.000000  1.980288e+06  1.980288e+06  \n",
       "mean             27.980819            53.879981  5.407674e+06  1.277008e+01  \n",
       "std              27.480661            12.776024  2.594125e+06  1.142057e+00  \n",
       "min               0.000000            13.990000  2.582894e+06  1.144823e+01  \n",
       "25%              12.180000            45.450000  3.361182e+06  1.199914e+01  \n",
       "50%              25.100000            53.690000  5.330392e+06  1.237539e+01  \n",
       "75%              42.100000            63.980000  6.016517e+06  1.335857e+01  \n",
       "max            2550.000000           243.560000  1.225450e+07  1.518992e+01  "
      ]
     },
     "execution_count": 116,
     "metadata": {},
     "output_type": "execute_result"
    }
   ],
   "source": [
    "data_TCH.describe()"
   ]
  },
  {
   "cell_type": "markdown",
   "id": "cf81833e-1ab2-419e-8238-b48ac433c6a1",
   "metadata": {},
   "source": [
    "Dataframe des TCH avec chaque élément qui à au moins une variation horrire trop important (sur variation horaire, TCH>100)."
   ]
  },
  {
   "cell_type": "code",
   "execution_count": 118,
   "id": "a3a03041-3d2b-4ea7-b44e-f17beecec267",
   "metadata": {},
   "outputs": [
    {
     "data": {
      "text/html": [
       "<div>\n",
       "<style scoped>\n",
       "    .dataframe tbody tr th:only-of-type {\n",
       "        vertical-align: middle;\n",
       "    }\n",
       "\n",
       "    .dataframe tbody tr th {\n",
       "        vertical-align: top;\n",
       "    }\n",
       "\n",
       "    .dataframe thead th {\n",
       "        text-align: right;\n",
       "    }\n",
       "</style>\n",
       "<table border=\"1\" class=\"dataframe\">\n",
       "  <thead>\n",
       "    <tr style=\"text-align: right;\">\n",
       "      <th></th>\n",
       "      <th>region</th>\n",
       "      <th>TCH Thermique (%)</th>\n",
       "      <th>TCH Nucléaire (%)</th>\n",
       "      <th>TCH Eolien (%)</th>\n",
       "      <th>TCH Solaire (%)</th>\n",
       "      <th>TCH Hydraulique (%)</th>\n",
       "      <th>TCH Bioénergies (%)</th>\n",
       "      <th>Total</th>\n",
       "      <th>tmoy</th>\n",
       "    </tr>\n",
       "  </thead>\n",
       "  <tbody>\n",
       "    <tr>\n",
       "      <th>29043</th>\n",
       "      <td>Hauts-de-France</td>\n",
       "      <td>49.01</td>\n",
       "      <td>101.08</td>\n",
       "      <td>50.00</td>\n",
       "      <td>47.59</td>\n",
       "      <td>NaN</td>\n",
       "      <td>NaN</td>\n",
       "      <td>6.012374e+06</td>\n",
       "      <td>11.593416</td>\n",
       "    </tr>\n",
       "    <tr>\n",
       "      <th>74838</th>\n",
       "      <td>Hauts-de-France</td>\n",
       "      <td>39.64</td>\n",
       "      <td>100.54</td>\n",
       "      <td>50.00</td>\n",
       "      <td>54.01</td>\n",
       "      <td>NaN</td>\n",
       "      <td>NaN</td>\n",
       "      <td>6.012374e+06</td>\n",
       "      <td>11.593416</td>\n",
       "    </tr>\n",
       "    <tr>\n",
       "      <th>165656</th>\n",
       "      <td>Grand Est</td>\n",
       "      <td>20.20</td>\n",
       "      <td>82.93</td>\n",
       "      <td>69.54</td>\n",
       "      <td>25.05</td>\n",
       "      <td>40.73</td>\n",
       "      <td>176.89</td>\n",
       "      <td>5.572013e+06</td>\n",
       "      <td>11.448234</td>\n",
       "    </tr>\n",
       "  </tbody>\n",
       "</table>\n",
       "</div>"
      ],
      "text/plain": [
       "                 region  TCH Thermique (%)  TCH Nucléaire (%)  TCH Eolien (%)  \\\n",
       "29043   Hauts-de-France              49.01             101.08           50.00   \n",
       "74838   Hauts-de-France              39.64             100.54           50.00   \n",
       "165656        Grand Est              20.20              82.93           69.54   \n",
       "\n",
       "        TCH Solaire (%)  TCH Hydraulique (%)  TCH Bioénergies (%)  \\\n",
       "29043             47.59                  NaN                  NaN   \n",
       "74838             54.01                  NaN                  NaN   \n",
       "165656            25.05                40.73               176.89   \n",
       "\n",
       "               Total       tmoy  \n",
       "29043   6.012374e+06  11.593416  \n",
       "74838   6.012374e+06  11.593416  \n",
       "165656  5.572013e+06  11.448234  "
      ]
     },
     "execution_count": 118,
     "metadata": {},
     "output_type": "execute_result"
    }
   ],
   "source": [
    "mask_TCH = np.logical_or(data_TCH[tab_TCH[0]]>100, data_TCH[tab_TCH[1]]>100)\n",
    "mask_TCH = np.logical_or(mask_TCH, data_TCH[tab_TCH[2]]>100)\n",
    "mask_TCH = np.logical_or(mask_TCH, data_TCH[tab_TCH[3]]>100)\n",
    "mask_TCH = np.logical_or(mask_TCH, data_TCH[tab_TCH[4]]>100)\n",
    "mask_TCH = np.logical_or(mask_TCH, data_TCH[tab_TCH[5]]>100)\n",
    "filtered_TCH = data_TCH[mask_TCH]\n",
    "filtered_TCH[:3]"
   ]
  },
  {
   "cell_type": "code",
   "execution_count": 121,
   "id": "85b44297-176c-4f88-ac61-b1ecf7daf97b",
   "metadata": {},
   "outputs": [
    {
     "data": {
      "text/plain": [
       "(816, 9)"
      ]
     },
     "execution_count": 121,
     "metadata": {},
     "output_type": "execute_result"
    }
   ],
   "source": [
    "filtered_TCH.shape"
   ]
  },
  {
   "cell_type": "markdown",
   "id": "1db36e7a-e89e-4dbd-a0b3-6036fdd20108",
   "metadata": {},
   "source": [
    "Liste de nombre de TCH > 100 par catégorie."
   ]
  },
  {
   "cell_type": "code",
   "execution_count": 123,
   "id": "584934a8-2bf6-4393-b913-630bdc961435",
   "metadata": {},
   "outputs": [
    {
     "data": {
      "text/plain": [
       "[0, 594, 99, 1, 84, 38]"
      ]
     },
     "execution_count": 123,
     "metadata": {},
     "output_type": "execute_result"
    }
   ],
   "source": [
    "lst_TCH_par_cat = [(filtered_TCH[tab_TCH[0]]>100).sum(),(filtered_TCH[tab_TCH[1]]>100).sum(),(filtered_TCH[tab_TCH[2]]>100).sum(),(filtered_TCH[tab_TCH[3]]>100).sum(),(filtered_TCH[tab_TCH[4]]>100).sum(),(filtered_TCH[tab_TCH[5]]>100).sum()]\n",
    "lst_TCH_par_cat  # ['TCH Thermique (%)', 'TCH Nucléaire (%)', 'TCH Eolien (%)', 'TCH Solaire (%)', 'TCH Hydraulique (%)', 'TCH Bioénergies (%)']"
   ]
  },
  {
   "cell_type": "markdown",
   "id": "ef4a7fd6-76ac-4cbf-ba0e-ff45a28cd674",
   "metadata": {},
   "source": [
    "## Remarque:\n",
    "    Sur optimisation qui est principalement du NUCLEAIRE \n",
    "    bien qu'il y ai de l'EOLIEN et de l'HYDRAULIQUE"
   ]
  },
  {
   "cell_type": "markdown",
   "id": "bcfad306-91c6-44d7-aff7-1ba0208f965d",
   "metadata": {},
   "source": [
    "## Test ci-dessous\n",
    "(Pas important)"
   ]
  },
  {
   "cell_type": "code",
   "execution_count": 142,
   "id": "418346d3-c303-43ec-9000-3b9bd3e47d1a",
   "metadata": {},
   "outputs": [],
   "source": [
    "#data4.to_csv(r\"C:\\Users\\ethan\\OneDrive\\Documents\\Aivancity\\Cours\\Clinique de l'IA\\Projet_1\\projet4_datasets\\data4.csv\")"
   ]
  },
  {
   "cell_type": "code",
   "execution_count": 136,
   "id": "ae9a478f-42bc-4e43-be47-a1d3ad729e46",
   "metadata": {},
   "outputs": [],
   "source": [
    "#data_FINAL.to_csv(r\"C:\\Users\\ethan\\OneDrive\\Documents\\Aivancity\\Cours\\Clinique de l'IA\\Projet_1\\projet4_datasets\\data_FINAL.csv\")"
   ]
  },
  {
   "cell_type": "markdown",
   "id": "993e1c7b-283a-494f-b6af-28fc56435a7a",
   "metadata": {},
   "source": [
    "# Seconde Partie d'Analyse"
   ]
  },
  {
   "cell_type": "markdown",
   "id": "63b9f4cf-c5e9-4b4b-be13-6c38a63f65bd",
   "metadata": {},
   "source": [
    "### Que fait le groupe\n",
    "    Kherddin - % des énergies renouvelables\n",
    "    Maël - BDD avec les usines en France\n",
    "    Zakaria - Eco2 mix, analyse données RT"
   ]
  },
  {
   "cell_type": "code",
   "execution_count": 123,
   "id": "42d94788-37a6-4bce-98a1-5c3d06c03ebc",
   "metadata": {},
   "outputs": [
    {
     "data": {
      "text/plain": [
       "Index(['region', 'Date', 'Consommation (MW)', 'Thermique (MW)',\n",
       "       'Nucléaire (MW)', 'Eolien (MW)', 'Solaire (MW)', 'Hydraulique (MW)',\n",
       "       'Bioénergies (MW)', 'TCO Nucléaire (%)', 'TCO Eolien (%)',\n",
       "       'TCO Solaire (%)', 'TCO Hydraulique (%)', 'TCO Bioénergies (%)',\n",
       "       'Total', 'tmoy'],\n",
       "      dtype='object')"
      ]
     },
     "execution_count": 123,
     "metadata": {},
     "output_type": "execute_result"
    }
   ],
   "source": [
    "data_FINAL.columns"
   ]
  },
  {
   "cell_type": "code",
   "execution_count": 125,
   "id": "35090a4e-28b4-46de-9189-c07d8473dccd",
   "metadata": {},
   "outputs": [
    {
     "data": {
      "text/html": [
       "<div>\n",
       "<style scoped>\n",
       "    .dataframe tbody tr th:only-of-type {\n",
       "        vertical-align: middle;\n",
       "    }\n",
       "\n",
       "    .dataframe tbody tr th {\n",
       "        vertical-align: top;\n",
       "    }\n",
       "\n",
       "    .dataframe thead th {\n",
       "        text-align: right;\n",
       "    }\n",
       "</style>\n",
       "<table border=\"1\" class=\"dataframe\">\n",
       "  <thead>\n",
       "    <tr style=\"text-align: right;\">\n",
       "      <th></th>\n",
       "      <th>region</th>\n",
       "      <th>Date</th>\n",
       "      <th>Consommation (MW)</th>\n",
       "      <th>Thermique (MW)</th>\n",
       "      <th>Nucléaire (MW)</th>\n",
       "      <th>Eolien (MW)</th>\n",
       "      <th>Solaire (MW)</th>\n",
       "      <th>Hydraulique (MW)</th>\n",
       "      <th>Bioénergies (MW)</th>\n",
       "      <th>TCO Nucléaire (%)</th>\n",
       "      <th>TCO Eolien (%)</th>\n",
       "      <th>TCO Solaire (%)</th>\n",
       "      <th>TCO Hydraulique (%)</th>\n",
       "      <th>TCO Bioénergies (%)</th>\n",
       "      <th>Total</th>\n",
       "      <th>tmoy</th>\n",
       "    </tr>\n",
       "  </thead>\n",
       "  <tbody>\n",
       "    <tr>\n",
       "      <th>0</th>\n",
       "      <td>Grand Est</td>\n",
       "      <td>2021-01-11</td>\n",
       "      <td>7403.0</td>\n",
       "      <td>2227.0</td>\n",
       "      <td>9175.0</td>\n",
       "      <td>356.0</td>\n",
       "      <td>227.0</td>\n",
       "      <td>554.0</td>\n",
       "      <td>117.0</td>\n",
       "      <td>3.07</td>\n",
       "      <td>7.48</td>\n",
       "      <td>1.58</td>\n",
       "      <td>NaN</td>\n",
       "      <td>NaN</td>\n",
       "      <td>5.572013e+06</td>\n",
       "      <td>11.448234</td>\n",
       "    </tr>\n",
       "    <tr>\n",
       "      <th>1</th>\n",
       "      <td>Grand Est</td>\n",
       "      <td>2021-01-11</td>\n",
       "      <td>6544.0</td>\n",
       "      <td>2148.0</td>\n",
       "      <td>9127.0</td>\n",
       "      <td>1963.0</td>\n",
       "      <td>0.0</td>\n",
       "      <td>525.0</td>\n",
       "      <td>118.0</td>\n",
       "      <td>0.00</td>\n",
       "      <td>8.02</td>\n",
       "      <td>1.80</td>\n",
       "      <td>NaN</td>\n",
       "      <td>NaN</td>\n",
       "      <td>5.572013e+06</td>\n",
       "      <td>11.448234</td>\n",
       "    </tr>\n",
       "  </tbody>\n",
       "</table>\n",
       "</div>"
      ],
      "text/plain": [
       "      region        Date  Consommation (MW)  Thermique (MW)  Nucléaire (MW)  \\\n",
       "0  Grand Est  2021-01-11             7403.0          2227.0          9175.0   \n",
       "1  Grand Est  2021-01-11             6544.0          2148.0          9127.0   \n",
       "\n",
       "   Eolien (MW)  Solaire (MW)  Hydraulique (MW)  Bioénergies (MW)  \\\n",
       "0        356.0         227.0             554.0             117.0   \n",
       "1       1963.0           0.0             525.0             118.0   \n",
       "\n",
       "   TCO Nucléaire (%)  TCO Eolien (%)  TCO Solaire (%)  TCO Hydraulique (%)  \\\n",
       "0               3.07            7.48             1.58                  NaN   \n",
       "1               0.00            8.02             1.80                  NaN   \n",
       "\n",
       "   TCO Bioénergies (%)         Total       tmoy  \n",
       "0                  NaN  5.572013e+06  11.448234  \n",
       "1                  NaN  5.572013e+06  11.448234  "
      ]
     },
     "execution_count": 125,
     "metadata": {},
     "output_type": "execute_result"
    }
   ],
   "source": [
    "data_FINAL[:2]"
   ]
  },
  {
   "cell_type": "code",
   "execution_count": 127,
   "id": "dc1c5f28-1a4a-4aa5-a70a-fa32246016b1",
   "metadata": {},
   "outputs": [
    {
     "data": {
      "text/plain": [
       "array(['Auvergne-Rhône-Alpes', 'Bourgogne-Franche-Comté', 'Bretagne',\n",
       "       'Centre-Val de Loire', 'Grand Est', 'Hauts-de-France', 'Normandie',\n",
       "       'Nouvelle-Aquitaine', 'Occitanie', 'Pays de la Loire',\n",
       "       \"Provence-Alpes-Côte d'Azur\", 'Île-de-France'], dtype=object)"
      ]
     },
     "execution_count": 127,
     "metadata": {},
     "output_type": "execute_result"
    }
   ],
   "source": [
    "np.unique(data_FINAL[\"region\"])"
   ]
  },
  {
   "cell_type": "code",
   "execution_count": null,
   "id": "ba7995e5-df62-43e8-b530-e0726d9e1b05",
   "metadata": {},
   "outputs": [],
   "source": []
  },
  {
   "cell_type": "code",
   "execution_count": 129,
   "id": "cf2b64eb-a658-4eb2-be10-830364d4b24d",
   "metadata": {},
   "outputs": [
    {
     "data": {
      "text/plain": [
       "0           3.07\n",
       "1           0.00\n",
       "2           0.00\n",
       "3           0.00\n",
       "4           0.00\n",
       "           ...  \n",
       "1980283    48.43\n",
       "1980284    48.95\n",
       "1980285    49.86\n",
       "1980286    48.17\n",
       "1980287    51.88\n",
       "Name: TCO Nucléaire (%), Length: 1980288, dtype: float64"
      ]
     },
     "execution_count": 129,
     "metadata": {},
     "output_type": "execute_result"
    }
   ],
   "source": [
    "data_FINAL['TCO Nucléaire (%)']"
   ]
  },
  {
   "cell_type": "code",
   "execution_count": 130,
   "id": "9434f7d8-fd69-4d6d-8a56-ef0207d37dd7",
   "metadata": {},
   "outputs": [],
   "source": [
    "data_FINAL_Q1 = data_FINAL['TCO Nucléaire (%)'].quantile(0.25)\n",
    "data_FINAL_Q3 = data_FINAL['TCO Nucléaire (%)'].quantile(0.75)\n",
    "\n",
    "data_FINAL_moyenne = data_FINAL['TCO Nucléaire (%)'].mean(numeric_only=True)\n",
    "data_FINAL_mediane = data_FINAL['TCO Nucléaire (%)'].median(numeric_only=True)\n",
    "\n",
    "data_FINAL_ecart_type = data_FINAL['TCO Nucléaire (%)'].std(numeric_only=True)\n",
    "data_FINAL_dispersion_moyenne = data_FINAL_ecart_type/data_FINAL_moyenne*100\n",
    "data_FINAL_dispersion_mediane = data_FINAL_ecart_type/data_FINAL_mediane*100"
   ]
  },
  {
   "cell_type": "code",
   "execution_count": 131,
   "id": "5568c5ed-2ecc-4443-b164-2f24730329e1",
   "metadata": {},
   "outputs": [
    {
     "data": {
      "text/plain": [
       "93.48809665736644"
      ]
     },
     "execution_count": 131,
     "metadata": {},
     "output_type": "execute_result"
    }
   ],
   "source": [
    "data_FINAL_ecart_type"
   ]
  },
  {
   "cell_type": "code",
   "execution_count": 132,
   "id": "9758e932-b03b-492e-aba1-d07bd8446a22",
   "metadata": {},
   "outputs": [
    {
     "data": {
      "text/plain": [
       "55.843970942850255"
      ]
     },
     "execution_count": 132,
     "metadata": {},
     "output_type": "execute_result"
    }
   ],
   "source": [
    "data_FINAL_moyenne"
   ]
  },
  {
   "cell_type": "code",
   "execution_count": 133,
   "id": "512ad738-b84b-4c80-b9be-9ecd53ccc67a",
   "metadata": {},
   "outputs": [
    {
     "data": {
      "text/plain": [
       "4.52"
      ]
     },
     "execution_count": 133,
     "metadata": {},
     "output_type": "execute_result"
    }
   ],
   "source": [
    "data_FINAL_mediane"
   ]
  },
  {
   "cell_type": "code",
   "execution_count": 134,
   "id": "0679d496-b922-421e-bc93-44508a1d1ebb",
   "metadata": {},
   "outputs": [
    {
     "data": {
      "text/plain": [
       "<Axes: >"
      ]
     },
     "execution_count": 134,
     "metadata": {},
     "output_type": "execute_result"
    },
    {
     "data": {
      "image/png": "[encoded data removed]",
      "text/plain": [
       "<Figure size 640x480 with 1 Axes>"
      ]
     },
     "metadata": {},
     "output_type": "display_data"
    }
   ],
   "source": [
    "data_FINAL[\"TCO Nucléaire (%)\"].plot(kind='box')"
   ]
  },
  {
   "cell_type": "code",
   "execution_count": 154,
   "id": "381417ed-c050-4f6f-a9ef-3ee0b5dfb0a4",
   "metadata": {},
   "outputs": [
    {
     "data": {
      "text/plain": [
       "<Axes: ylabel='Density'>"
      ]
     },
     "execution_count": 154,
     "metadata": {},
     "output_type": "execute_result"
    },
    {
     "data": {
      "image/png": "[encoded data removed]",
      "text/plain": [
       "<Figure size 640x480 with 1 Axes>"
      ]
     },
     "metadata": {},
     "output_type": "display_data"
    }
   ],
   "source": [
    "data_FINAL[\"TCO Nucléaire (%)\"][:100000].plot(kind='density')"
   ]
  },
  {
   "cell_type": "code",
   "execution_count": 156,
   "id": "9abfa228-fd44-4cd5-9a61-66cd21acd140",
   "metadata": {},
   "outputs": [
    {
     "name": "stdout",
     "output_type": "stream",
     "text": [
      "Nous disposons de 1980288 données unitaires en pourcentages porté sur le TCO Nucléaire. \n",
      "Les données vont de 0.0% à 784.25% avec pour moyenne 5.0%\n",
      "\n",
      "50% des données sont en dessous d'un TCO de 4.52%,\n",
      "25% moins d'un TCO de  0.0% et 25% plus d'un TCO de 87.49%.\n",
      "50% des données sont compris entre un TCO de 0.0% et de 87.49%\n",
      "\n",
      "cependant les TCO sont très dispercés par rapport à la moyenne (disperssion_moy=167.0%>50%)\n",
      "et par rapport à la mediane (disperssion_med=2068.0%>50%) \n"
     ]
    }
   ],
   "source": [
    "print(f\"Nous disposons de {data_FINAL.shape[0]} données unitaires en pourcentages porté sur le TCO Nucléaire. \\n\\\n",
    "Les données vont de {data_FINAL['TCO Nucléaire (%)'].min()}% à {data_FINAL['TCO Nucléaire (%)'].max()}% avec pour \\\n",
    "moyenne {np.round(data_FINAL_mediane)}%\\n\\n\\\n",
    "\\\n",
    "50% des données sont en dessous d'un TCO de {data_FINAL_mediane}%,\\n\\\n",
    "25% moins d'un TCO de  {data_FINAL_Q1}% et 25% plus d'un TCO de {data_FINAL_Q3}%.\\n\\\n",
    "50% des données sont compris entre un TCO de {data_FINAL_Q1}% et de {data_FINAL_Q3}%\\n\\n\\\n",
    "\\\n",
    "cependant les TCO sont très dispercés par rapport à la moyenne (disperssion_moy={np.round(data_FINAL_dispersion_moyenne)}%>50%)\\n\\\n",
    "et par rapport à la mediane (disperssion_med={np.round(data_FINAL_dispersion_mediane)}%>50%) \")\n"
   ]
  }
 ],
 "metadata": {
  "kernelspec": {
   "display_name": "Python 3 (ipykernel)",
   "language": "python",
   "name": "python3"
  },
  "language_info": {
   "codemirror_mode": {
    "name": "ipython",
    "version": 3
   },
   "file_extension": ".py",
   "mimetype": "text/x-python",
   "name": "python",
   "nbconvert_exporter": "python",
   "pygments_lexer": "ipython3",
   "version": "3.12.4"
  }
 },
 "nbformat": 4,
 "nbformat_minor": 5
}
